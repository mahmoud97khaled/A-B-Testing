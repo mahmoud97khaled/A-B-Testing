{
 "cells": [
  {
   "cell_type": "code",
   "execution_count": 14,
   "id": "7a0caf15",
   "metadata": {},
   "outputs": [],
   "source": [
    "import numpy as np\n",
    "import pandas as pd\n",
    "import matplotlib.pyplot as plt"
   ]
  },
  {
   "cell_type": "code",
   "execution_count": 2,
   "id": "c6fb5f9b",
   "metadata": {},
   "outputs": [],
   "source": [
    "df = pd.read_csv(\"datasets/course_page_actions.csv\" )"
   ]
  },
  {
   "cell_type": "code",
   "execution_count": 10,
   "id": "c2b510d9",
   "metadata": {},
   "outputs": [
    {
     "data": {
      "text/html": [
       "<div>\n",
       "<style scoped>\n",
       "    .dataframe tbody tr th:only-of-type {\n",
       "        vertical-align: middle;\n",
       "    }\n",
       "\n",
       "    .dataframe tbody tr th {\n",
       "        vertical-align: top;\n",
       "    }\n",
       "\n",
       "    .dataframe thead th {\n",
       "        text-align: right;\n",
       "    }\n",
       "</style>\n",
       "<table border=\"1\" class=\"dataframe\">\n",
       "  <thead>\n",
       "    <tr style=\"text-align: right;\">\n",
       "      <th></th>\n",
       "      <th>timestamp</th>\n",
       "      <th>id</th>\n",
       "      <th>group</th>\n",
       "      <th>action</th>\n",
       "      <th>duration</th>\n",
       "    </tr>\n",
       "  </thead>\n",
       "  <tbody>\n",
       "    <tr>\n",
       "      <th>0</th>\n",
       "      <td>2016-09-24 17:14:52.012145</td>\n",
       "      <td>261869</td>\n",
       "      <td>experiment</td>\n",
       "      <td>view</td>\n",
       "      <td>130.545004</td>\n",
       "    </tr>\n",
       "    <tr>\n",
       "      <th>1</th>\n",
       "      <td>2016-09-24 18:45:09.645857</td>\n",
       "      <td>226546</td>\n",
       "      <td>experiment</td>\n",
       "      <td>view</td>\n",
       "      <td>159.862440</td>\n",
       "    </tr>\n",
       "    <tr>\n",
       "      <th>2</th>\n",
       "      <td>2016-09-24 19:16:21.002533</td>\n",
       "      <td>286353</td>\n",
       "      <td>experiment</td>\n",
       "      <td>view</td>\n",
       "      <td>79.349315</td>\n",
       "    </tr>\n",
       "    <tr>\n",
       "      <th>3</th>\n",
       "      <td>2016-09-24 19:43:06.927785</td>\n",
       "      <td>842279</td>\n",
       "      <td>experiment</td>\n",
       "      <td>view</td>\n",
       "      <td>55.536126</td>\n",
       "    </tr>\n",
       "    <tr>\n",
       "      <th>4</th>\n",
       "      <td>2016-09-24 21:08:22.790333</td>\n",
       "      <td>781883</td>\n",
       "      <td>experiment</td>\n",
       "      <td>view</td>\n",
       "      <td>204.322437</td>\n",
       "    </tr>\n",
       "    <tr>\n",
       "      <th>5</th>\n",
       "      <td>2016-09-24 22:18:15.857434</td>\n",
       "      <td>266695</td>\n",
       "      <td>experiment</td>\n",
       "      <td>view</td>\n",
       "      <td>151.235475</td>\n",
       "    </tr>\n",
       "    <tr>\n",
       "      <th>6</th>\n",
       "      <td>2016-09-24 22:42:41.218757</td>\n",
       "      <td>701620</td>\n",
       "      <td>control</td>\n",
       "      <td>view</td>\n",
       "      <td>302.951552</td>\n",
       "    </tr>\n",
       "    <tr>\n",
       "      <th>7</th>\n",
       "      <td>2016-09-24 22:43:35.119748</td>\n",
       "      <td>701620</td>\n",
       "      <td>control</td>\n",
       "      <td>enroll</td>\n",
       "      <td>NaN</td>\n",
       "    </tr>\n",
       "    <tr>\n",
       "      <th>8</th>\n",
       "      <td>2016-09-25 01:21:10.649300</td>\n",
       "      <td>321250</td>\n",
       "      <td>experiment</td>\n",
       "      <td>view</td>\n",
       "      <td>98.678583</td>\n",
       "    </tr>\n",
       "    <tr>\n",
       "      <th>9</th>\n",
       "      <td>2016-09-25 01:23:19.800167</td>\n",
       "      <td>439910</td>\n",
       "      <td>control</td>\n",
       "      <td>view</td>\n",
       "      <td>61.234458</td>\n",
       "    </tr>\n",
       "  </tbody>\n",
       "</table>\n",
       "</div>"
      ],
      "text/plain": [
       "                    timestamp      id       group  action    duration\n",
       "0  2016-09-24 17:14:52.012145  261869  experiment    view  130.545004\n",
       "1  2016-09-24 18:45:09.645857  226546  experiment    view  159.862440\n",
       "2  2016-09-24 19:16:21.002533  286353  experiment    view   79.349315\n",
       "3  2016-09-24 19:43:06.927785  842279  experiment    view   55.536126\n",
       "4  2016-09-24 21:08:22.790333  781883  experiment    view  204.322437\n",
       "5  2016-09-24 22:18:15.857434  266695  experiment    view  151.235475\n",
       "6  2016-09-24 22:42:41.218757  701620     control    view  302.951552\n",
       "7  2016-09-24 22:43:35.119748  701620     control  enroll         NaN\n",
       "8  2016-09-25 01:21:10.649300  321250  experiment    view   98.678583\n",
       "9  2016-09-25 01:23:19.800167  439910     control    view   61.234458"
      ]
     },
     "execution_count": 10,
     "metadata": {},
     "output_type": "execute_result"
    }
   ],
   "source": [
    "df.head(10)"
   ]
  },
  {
   "cell_type": "code",
   "execution_count": 8,
   "id": "ee2161fa",
   "metadata": {},
   "outputs": [
    {
     "data": {
      "text/plain": [
       "(array([603., 718., 862., 789., 547., 324., 151.,  42.,   7.,   1.]),\n",
       " array([1.38556666e-02, 4.21692221e+01, 8.43245885e+01, 1.26479955e+02,\n",
       "        1.68635321e+02, 2.10790688e+02, 2.52946054e+02, 2.95101421e+02,\n",
       "        3.37256787e+02, 3.79412154e+02, 4.21567520e+02]),\n",
       " <BarContainer object of 10 artists>)"
      ]
     },
     "execution_count": 8,
     "metadata": {},
     "output_type": "execute_result"
    },
    {
     "data": {
      "image/png": "[encoded data removed]",
      "text/plain": [
       "<Figure size 432x288 with 1 Axes>"
      ]
     },
     "metadata": {
      "needs_background": "light"
     },
     "output_type": "display_data"
    }
   ],
   "source": [
    "plt.hist(df.duration)"
   ]
  },
  {
   "cell_type": "code",
   "execution_count": 11,
   "id": "b22908a8",
   "metadata": {},
   "outputs": [
    {
     "data": {
      "text/plain": [
       "15.537053609623797"
      ]
     },
     "execution_count": 11,
     "metadata": {},
     "output_type": "execute_result"
    }
   ],
   "source": [
    "obs_diff = df [df.group == 'experiment'].duration.mean() - df [df.group == 'control'].duration.mean()\n",
    "obs_diff"
   ]
  },
  {
   "cell_type": "code",
   "execution_count": 12,
   "id": "18e66bd0",
   "metadata": {},
   "outputs": [
    {
     "data": {
      "text/plain": [
       "(array([  11.,   63.,  467., 1439., 2687., 2890., 1753.,  559.,  107.,\n",
       "          24.]),\n",
       " array([ 6.57714002,  8.33341087, 10.08968171, 11.84595256, 13.60222341,\n",
       "        15.35849425, 17.1147651 , 18.87103594, 20.62730679, 22.38357764,\n",
       "        24.13984848]),\n",
       " <BarContainer object of 10 artists>)"
      ]
     },
     "execution_count": 12,
     "metadata": {},
     "output_type": "execute_result"
    },
    {
     "data": {
      "image/png": "[encoded data removed]",
      "text/plain": [
       "<Figure size 432x288 with 1 Axes>"
      ]
     },
     "metadata": {
      "needs_background": "light"
     },
     "output_type": "display_data"
    }
   ],
   "source": [
    "diff = []\n",
    "for _ in range (10000):\n",
    "    sample = df.sample(df.shape[0], replace = True)\n",
    "    diff.append(sample [sample.group == 'experiment'].duration.mean() - sample [sample.group == 'control'].duration.mean()) \n",
    "plt.hist (diff)"
   ]
  },
  {
   "cell_type": "code",
   "execution_count": 15,
   "id": "6f07e4cb",
   "metadata": {},
   "outputs": [
    {
     "data": {
      "text/plain": [
       "<matplotlib.lines.Line2D at 0x287fc61d4e0>"
      ]
     },
     "execution_count": 15,
     "metadata": {},
     "output_type": "execute_result"
    },
    {
     "data": {
      "image/png": "[encoded data removed]",
      "text/plain": [
       "<Figure size 432x288 with 1 Axes>"
      ]
     },
     "metadata": {
      "needs_background": "light"
     },
     "output_type": "display_data"
    }
   ],
   "source": [
    "diff = np.array(diff)\n",
    "null = np.random.normal(0, diff.std(), diff.size)\n",
    "plt.hist (null)\n",
    "plt.axvline (x= obs_diff ,  c = 'green')"
   ]
  },
  {
   "cell_type": "code",
   "execution_count": 16,
   "id": "43704b86",
   "metadata": {},
   "outputs": [
    {
     "data": {
      "text/plain": [
       "0.0"
      ]
     },
     "execution_count": 16,
     "metadata": {},
     "output_type": "execute_result"
    }
   ],
   "source": [
    "(null> obs_diff).mean () *100 "
   ]
  }
 ],
 "metadata": {
  "kernelspec": {
   "display_name": "Python 3 (ipykernel)",
   "language": "python",
   "name": "python3"
  },
  "language_info": {
   "codemirror_mode": {
    "name": "ipython",
    "version": 3
   },
   "file_extension": ".py",
   "mimetype": "text/x-python",
   "name": "python",
   "nbconvert_exporter": "python",
   "pygments_lexer": "ipython3",
   "version": "3.7.3"
  }
 },
 "nbformat": 4,
 "nbformat_minor": 5
}
